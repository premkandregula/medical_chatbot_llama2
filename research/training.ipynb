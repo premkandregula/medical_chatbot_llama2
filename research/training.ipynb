{
 "cells": [
  {
   "cell_type": "code",
   "execution_count": 1,
   "id": "e3906557",
   "metadata": {},
   "outputs": [
    {
     "name": "stderr",
     "output_type": "stream",
     "text": [
      "C:\\Users\\premp\\AppData\\Roaming\\Python\\Python310\\site-packages\\pinecone\\index.py:4: TqdmExperimentalWarning: Using `tqdm.autonotebook.tqdm` in notebook mode. Use `tqdm.tqdm` instead to force console mode (e.g. in jupyter console)\n",
      "  from tqdm.autonotebook import tqdm\n"
     ]
    }
   ],
   "source": [
    "from langchain import PromptTemplate\n",
    "from langchain.chains import RetrievalQA\n",
    "from langchain.embeddings import HuggingFaceEmbeddings\n",
    "from langchain.vectorstores import Pinecone\n",
    "import pinecone\n",
    "from langchain.document_loaders import PyPDFLoader, DirectoryLoader\n",
    "from langchain.text_splitter import RecursiveCharacterTextSplitter\n",
    "from langchain.prompts import PromptTemplate\n",
    "from langchain.llms import CTransformers\n"
   ]
  },
  {
   "cell_type": "code",
   "execution_count": 2,
   "id": "c91bfaed",
   "metadata": {},
   "outputs": [],
   "source": [
    "PINECONE_API_KEY = \"pcsk_6f3hU7_LqxDnTNWzhuz12dF7XqiLmxTbodiLT4HGXBo4knjYPdt5Sz8zeUC4SF4LiiKm6q\"\n",
    "PINECONE_API_ENV = \"\""
   ]
  },
  {
   "cell_type": "code",
   "execution_count": 3,
   "id": "12aac2ae",
   "metadata": {},
   "outputs": [],
   "source": [
    "#Extract data from the PDF\n",
    "def load_pdf(data):\n",
    "    loader = DirectoryLoader(data,\n",
    "                    glob=\"*.pdf\",\n",
    "                    loader_cls=PyPDFLoader)\n",
    "    \n",
    "    documents = loader.load()\n",
    "\n",
    "    return documents"
   ]
  },
  {
   "cell_type": "code",
   "execution_count": 4,
   "id": "da22dfce",
   "metadata": {},
   "outputs": [],
   "source": [
    "extracted_data = load_pdf(\"data/\")  # No slash before 'data'\n"
   ]
  },
  {
   "cell_type": "code",
   "execution_count": 5,
   "id": "2cea690a",
   "metadata": {},
   "outputs": [],
   "source": [
    "#Create text chunks\n",
    "def text_split(extracted_data):\n",
    "    text_splitter = RecursiveCharacterTextSplitter(chunk_size = 500, chunk_overlap = 20)\n",
    "    text_chunks = text_splitter.split_documents(extracted_data)\n",
    "\n",
    "    return text_chunks"
   ]
  },
  {
   "cell_type": "code",
   "execution_count": 6,
   "id": "12c47385",
   "metadata": {},
   "outputs": [
    {
     "name": "stdout",
     "output_type": "stream",
     "text": [
      "length of my chunk: 5859\n"
     ]
    }
   ],
   "source": [
    "text_chunks = text_split(extracted_data)\n",
    "print(\"length of my chunk:\", len(text_chunks))"
   ]
  },
  {
   "cell_type": "code",
   "execution_count": 14,
   "id": "1da75f58",
   "metadata": {},
   "outputs": [
    {
     "name": "stdout",
     "output_type": "stream",
     "text": [
      "Requirement already satisfied: sentence-transformers in c:\\users\\premp\\appdata\\roaming\\python\\python310\\site-packages (2.2.2)Note: you may need to restart the kernel to use updated packages.\n",
      "\n",
      "Collecting sentence-transformers\n",
      "  Downloading sentence_transformers-5.0.0-py3-none-any.whl.metadata (16 kB)\n",
      "Requirement already satisfied: transformers<5.0.0,>=4.41.0 in c:\\users\\premp\\appdata\\roaming\\python\\python310\\site-packages (from sentence-transformers) (4.51.3)\n",
      "Requirement already satisfied: tqdm in c:\\users\\premp\\appdata\\roaming\\python\\python310\\site-packages (from sentence-transformers) (4.67.1)\n",
      "Requirement already satisfied: torch>=1.11.0 in c:\\users\\premp\\appdata\\roaming\\python\\python310\\site-packages (from sentence-transformers) (2.7.0)\n",
      "Requirement already satisfied: scikit-learn in c:\\users\\premp\\appdata\\roaming\\python\\python310\\site-packages (from sentence-transformers) (1.6.1)\n",
      "Requirement already satisfied: scipy in c:\\users\\premp\\appdata\\roaming\\python\\python310\\site-packages (from sentence-transformers) (1.15.3)\n",
      "Requirement already satisfied: huggingface-hub>=0.20.0 in c:\\users\\premp\\appdata\\roaming\\python\\python310\\site-packages (from sentence-transformers) (0.31.1)\n",
      "Requirement already satisfied: Pillow in c:\\users\\premp\\appdata\\roaming\\python\\python310\\site-packages (from sentence-transformers) (11.0.0)\n",
      "Requirement already satisfied: typing_extensions>=4.5.0 in c:\\users\\premp\\appdata\\roaming\\python\\python310\\site-packages (from sentence-transformers) (4.13.2)\n",
      "Requirement already satisfied: filelock in c:\\users\\premp\\appdata\\roaming\\python\\python310\\site-packages (from transformers<5.0.0,>=4.41.0->sentence-transformers) (3.18.0)\n",
      "Requirement already satisfied: numpy>=1.17 in c:\\users\\premp\\appdata\\roaming\\python\\python310\\site-packages (from transformers<5.0.0,>=4.41.0->sentence-transformers) (1.26.4)\n",
      "Requirement already satisfied: packaging>=20.0 in c:\\users\\premp\\appdata\\roaming\\python\\python310\\site-packages (from transformers<5.0.0,>=4.41.0->sentence-transformers) (24.2)\n",
      "Requirement already satisfied: pyyaml>=5.1 in c:\\users\\premp\\appdata\\roaming\\python\\python310\\site-packages (from transformers<5.0.0,>=4.41.0->sentence-transformers) (6.0.2)\n",
      "Requirement already satisfied: regex!=2019.12.17 in c:\\users\\premp\\appdata\\roaming\\python\\python310\\site-packages (from transformers<5.0.0,>=4.41.0->sentence-transformers) (2024.11.6)\n",
      "Requirement already satisfied: requests in c:\\users\\premp\\appdata\\roaming\\python\\python310\\site-packages (from transformers<5.0.0,>=4.41.0->sentence-transformers) (2.32.3)\n",
      "Requirement already satisfied: tokenizers<0.22,>=0.21 in c:\\users\\premp\\appdata\\roaming\\python\\python310\\site-packages (from transformers<5.0.0,>=4.41.0->sentence-transformers) (0.21.1)\n",
      "Requirement already satisfied: safetensors>=0.4.3 in c:\\users\\premp\\appdata\\roaming\\python\\python310\\site-packages (from transformers<5.0.0,>=4.41.0->sentence-transformers) (0.5.3)\n",
      "Requirement already satisfied: fsspec>=2023.5.0 in c:\\users\\premp\\appdata\\roaming\\python\\python310\\site-packages (from huggingface-hub>=0.20.0->sentence-transformers) (2025.3.2)\n",
      "Requirement already satisfied: sympy>=1.13.3 in c:\\users\\premp\\appdata\\roaming\\python\\python310\\site-packages (from torch>=1.11.0->sentence-transformers) (1.14.0)\n",
      "Requirement already satisfied: networkx in c:\\users\\premp\\appdata\\roaming\\python\\python310\\site-packages (from torch>=1.11.0->sentence-transformers) (3.4.2)\n",
      "Requirement already satisfied: jinja2 in c:\\users\\premp\\appdata\\roaming\\python\\python310\\site-packages (from torch>=1.11.0->sentence-transformers) (3.1.6)\n",
      "Requirement already satisfied: mpmath<1.4,>=1.1.0 in c:\\users\\premp\\appdata\\roaming\\python\\python310\\site-packages (from sympy>=1.13.3->torch>=1.11.0->sentence-transformers) (1.3.0)\n",
      "Requirement already satisfied: colorama in c:\\users\\premp\\appdata\\roaming\\python\\python310\\site-packages (from tqdm->sentence-transformers) (0.4.6)\n",
      "Requirement already satisfied: MarkupSafe>=2.0 in c:\\users\\premp\\appdata\\roaming\\python\\python310\\site-packages (from jinja2->torch>=1.11.0->sentence-transformers) (3.0.2)\n",
      "Requirement already satisfied: charset-normalizer<4,>=2 in c:\\users\\premp\\appdata\\roaming\\python\\python310\\site-packages (from requests->transformers<5.0.0,>=4.41.0->sentence-transformers) (3.4.2)\n",
      "Requirement already satisfied: idna<4,>=2.5 in c:\\users\\premp\\appdata\\roaming\\python\\python310\\site-packages (from requests->transformers<5.0.0,>=4.41.0->sentence-transformers) (3.7)\n",
      "Requirement already satisfied: urllib3<3,>=1.21.1 in c:\\users\\premp\\appdata\\roaming\\python\\python310\\site-packages (from requests->transformers<5.0.0,>=4.41.0->sentence-transformers) (1.26.18)\n",
      "Requirement already satisfied: certifi>=2017.4.17 in c:\\users\\premp\\appdata\\roaming\\python\\python310\\site-packages (from requests->transformers<5.0.0,>=4.41.0->sentence-transformers) (2025.4.26)\n",
      "Requirement already satisfied: joblib>=1.2.0 in c:\\users\\premp\\appdata\\roaming\\python\\python310\\site-packages (from scikit-learn->sentence-transformers) (1.5.1)\n",
      "Requirement already satisfied: threadpoolctl>=3.1.0 in c:\\users\\premp\\appdata\\roaming\\python\\python310\\site-packages (from scikit-learn->sentence-transformers) (3.6.0)\n",
      "Downloading sentence_transformers-5.0.0-py3-none-any.whl (470 kB)\n",
      "Installing collected packages: sentence-transformers\n",
      "  Attempting uninstall: sentence-transformers\n",
      "    Found existing installation: sentence-transformers 2.2.2\n",
      "    Uninstalling sentence-transformers-2.2.2:\n",
      "      Successfully uninstalled sentence-transformers-2.2.2\n",
      "Successfully installed sentence-transformers-5.0.0\n"
     ]
    }
   ],
   "source": [
    "pip install -U sentence-transformers\n"
   ]
  },
  {
   "cell_type": "code",
   "execution_count": 17,
   "id": "b48bd487",
   "metadata": {},
   "outputs": [],
   "source": [
    "import os\n",
    "os.environ[\"TRANSFORMERS_NO_TF\"] = \"1\"  # Prevent Keras/TensorFlow errors\n",
    "\n",
    "from langchain.embeddings import HuggingFaceEmbeddings\n",
    "\n",
    "def download_hugging_face_embeddings():\n",
    "    embeddings = HuggingFaceEmbeddings(model_name=\"sentence-transformers/all-MiniLM-L6-v2\")\n",
    "    return embeddings\n"
   ]
  },
  {
   "cell_type": "code",
   "execution_count": 21,
   "id": "2b2520db",
   "metadata": {},
   "outputs": [
    {
     "name": "stdout",
     "output_type": "stream",
     "text": [
      "Collecting tf-keras\n",
      "  Downloading tf_keras-2.19.0-py3-none-any.whl.metadata (1.8 kB)\n",
      "Requirement already satisfied: tensorflow<2.20,>=2.19 in c:\\users\\premp\\appdata\\roaming\\python\\python310\\site-packages (from tf-keras) (2.19.0)\n",
      "Requirement already satisfied: absl-py>=1.0.0 in c:\\users\\premp\\appdata\\roaming\\python\\python310\\site-packages (from tensorflow<2.20,>=2.19->tf-keras) (2.2.2)\n",
      "Requirement already satisfied: astunparse>=1.6.0 in c:\\users\\premp\\appdata\\roaming\\python\\python310\\site-packages (from tensorflow<2.20,>=2.19->tf-keras) (1.6.3)\n",
      "Requirement already satisfied: flatbuffers>=24.3.25 in c:\\users\\premp\\appdata\\roaming\\python\\python310\\site-packages (from tensorflow<2.20,>=2.19->tf-keras) (25.2.10)\n",
      "Requirement already satisfied: gast!=0.5.0,!=0.5.1,!=0.5.2,>=0.2.1 in c:\\users\\premp\\appdata\\roaming\\python\\python310\\site-packages (from tensorflow<2.20,>=2.19->tf-keras) (0.6.0)\n",
      "Requirement already satisfied: google-pasta>=0.1.1 in c:\\users\\premp\\appdata\\roaming\\python\\python310\\site-packages (from tensorflow<2.20,>=2.19->tf-keras) (0.2.0)\n",
      "Requirement already satisfied: libclang>=13.0.0 in c:\\users\\premp\\appdata\\roaming\\python\\python310\\site-packages (from tensorflow<2.20,>=2.19->tf-keras) (18.1.1)\n",
      "Requirement already satisfied: opt-einsum>=2.3.2 in c:\\users\\premp\\appdata\\roaming\\python\\python310\\site-packages (from tensorflow<2.20,>=2.19->tf-keras) (3.4.0)\n",
      "Requirement already satisfied: packaging in c:\\users\\premp\\appdata\\roaming\\python\\python310\\site-packages (from tensorflow<2.20,>=2.19->tf-keras) (24.2)\n",
      "Requirement already satisfied: protobuf!=4.21.0,!=4.21.1,!=4.21.2,!=4.21.3,!=4.21.4,!=4.21.5,<6.0.0dev,>=3.20.3 in c:\\users\\premp\\appdata\\roaming\\python\\python310\\site-packages (from tensorflow<2.20,>=2.19->tf-keras) (5.29.4)\n",
      "Requirement already satisfied: requests<3,>=2.21.0 in c:\\users\\premp\\appdata\\roaming\\python\\python310\\site-packages (from tensorflow<2.20,>=2.19->tf-keras) (2.32.3)\n",
      "Requirement already satisfied: setuptools in c:\\users\\premp\\anaconda3\\envs\\mchatbot\\lib\\site-packages (from tensorflow<2.20,>=2.19->tf-keras) (78.1.1)\n",
      "Requirement already satisfied: six>=1.12.0 in c:\\users\\premp\\appdata\\roaming\\python\\python310\\site-packages (from tensorflow<2.20,>=2.19->tf-keras) (1.17.0)\n",
      "Requirement already satisfied: termcolor>=1.1.0 in c:\\users\\premp\\appdata\\roaming\\python\\python310\\site-packages (from tensorflow<2.20,>=2.19->tf-keras) (3.1.0)\n",
      "Requirement already satisfied: typing-extensions>=3.6.6 in c:\\users\\premp\\appdata\\roaming\\python\\python310\\site-packages (from tensorflow<2.20,>=2.19->tf-keras) (4.13.2)\n",
      "Requirement already satisfied: wrapt>=1.11.0 in c:\\users\\premp\\appdata\\roaming\\python\\python310\\site-packages (from tensorflow<2.20,>=2.19->tf-keras) (1.17.2)\n",
      "Requirement already satisfied: grpcio<2.0,>=1.24.3 in c:\\users\\premp\\appdata\\roaming\\python\\python310\\site-packages (from tensorflow<2.20,>=2.19->tf-keras) (1.71.0)\n",
      "Requirement already satisfied: tensorboard~=2.19.0 in c:\\users\\premp\\appdata\\roaming\\python\\python310\\site-packages (from tensorflow<2.20,>=2.19->tf-keras) (2.19.0)\n",
      "Requirement already satisfied: keras>=3.5.0 in c:\\users\\premp\\appdata\\roaming\\python\\python310\\site-packages (from tensorflow<2.20,>=2.19->tf-keras) (3.9.2)\n",
      "Requirement already satisfied: numpy<2.2.0,>=1.26.0 in c:\\users\\premp\\appdata\\roaming\\python\\python310\\site-packages (from tensorflow<2.20,>=2.19->tf-keras) (1.26.4)\n",
      "Requirement already satisfied: h5py>=3.11.0 in c:\\users\\premp\\appdata\\roaming\\python\\python310\\site-packages (from tensorflow<2.20,>=2.19->tf-keras) (3.13.0)\n",
      "Requirement already satisfied: ml-dtypes<1.0.0,>=0.5.1 in c:\\users\\premp\\appdata\\roaming\\python\\python310\\site-packages (from tensorflow<2.20,>=2.19->tf-keras) (0.5.1)\n",
      "Requirement already satisfied: tensorflow-io-gcs-filesystem>=0.23.1 in c:\\users\\premp\\appdata\\roaming\\python\\python310\\site-packages (from tensorflow<2.20,>=2.19->tf-keras) (0.31.0)\n",
      "Requirement already satisfied: charset-normalizer<4,>=2 in c:\\users\\premp\\appdata\\roaming\\python\\python310\\site-packages (from requests<3,>=2.21.0->tensorflow<2.20,>=2.19->tf-keras) (3.4.2)\n",
      "Requirement already satisfied: idna<4,>=2.5 in c:\\users\\premp\\appdata\\roaming\\python\\python310\\site-packages (from requests<3,>=2.21.0->tensorflow<2.20,>=2.19->tf-keras) (3.7)\n",
      "Requirement already satisfied: urllib3<3,>=1.21.1 in c:\\users\\premp\\appdata\\roaming\\python\\python310\\site-packages (from requests<3,>=2.21.0->tensorflow<2.20,>=2.19->tf-keras) (1.26.18)\n",
      "Requirement already satisfied: certifi>=2017.4.17 in c:\\users\\premp\\appdata\\roaming\\python\\python310\\site-packages (from requests<3,>=2.21.0->tensorflow<2.20,>=2.19->tf-keras) (2025.4.26)\n",
      "Requirement already satisfied: markdown>=2.6.8 in c:\\users\\premp\\appdata\\roaming\\python\\python310\\site-packages (from tensorboard~=2.19.0->tensorflow<2.20,>=2.19->tf-keras) (3.8)\n",
      "Requirement already satisfied: tensorboard-data-server<0.8.0,>=0.7.0 in c:\\users\\premp\\appdata\\roaming\\python\\python310\\site-packages (from tensorboard~=2.19.0->tensorflow<2.20,>=2.19->tf-keras) (0.7.2)\n",
      "Requirement already satisfied: werkzeug>=1.0.1 in c:\\users\\premp\\appdata\\roaming\\python\\python310\\site-packages (from tensorboard~=2.19.0->tensorflow<2.20,>=2.19->tf-keras) (3.1.3)\n",
      "Requirement already satisfied: wheel<1.0,>=0.23.0 in c:\\users\\premp\\appdata\\roaming\\python\\python310\\site-packages (from astunparse>=1.6.0->tensorflow<2.20,>=2.19->tf-keras) (0.45.1)\n",
      "Requirement already satisfied: rich in c:\\users\\premp\\appdata\\roaming\\python\\python310\\site-packages (from keras>=3.5.0->tensorflow<2.20,>=2.19->tf-keras) (14.0.0)\n",
      "Requirement already satisfied: namex in c:\\users\\premp\\appdata\\roaming\\python\\python310\\site-packages (from keras>=3.5.0->tensorflow<2.20,>=2.19->tf-keras) (0.0.9)\n",
      "Requirement already satisfied: optree in c:\\users\\premp\\appdata\\roaming\\python\\python310\\site-packages (from keras>=3.5.0->tensorflow<2.20,>=2.19->tf-keras) (0.15.0)\n",
      "Requirement already satisfied: MarkupSafe>=2.1.1 in c:\\users\\premp\\appdata\\roaming\\python\\python310\\site-packages (from werkzeug>=1.0.1->tensorboard~=2.19.0->tensorflow<2.20,>=2.19->tf-keras) (3.0.2)\n",
      "Requirement already satisfied: markdown-it-py>=2.2.0 in c:\\users\\premp\\appdata\\roaming\\python\\python310\\site-packages (from rich->keras>=3.5.0->tensorflow<2.20,>=2.19->tf-keras) (3.0.0)\n",
      "Requirement already satisfied: pygments<3.0.0,>=2.13.0 in c:\\users\\premp\\appdata\\roaming\\python\\python310\\site-packages (from rich->keras>=3.5.0->tensorflow<2.20,>=2.19->tf-keras) (2.19.1)\n",
      "Requirement already satisfied: mdurl~=0.1 in c:\\users\\premp\\appdata\\roaming\\python\\python310\\site-packages (from markdown-it-py>=2.2.0->rich->keras>=3.5.0->tensorflow<2.20,>=2.19->tf-keras) (0.1.2)\n",
      "Downloading tf_keras-2.19.0-py3-none-any.whl (1.7 MB)\n",
      "   ---------------------------------------- 0.0/1.7 MB ? eta -:--:--\n",
      "   ---------------------------------------- 0.0/1.7 MB ? eta -:--:--\n",
      "   ---------------------------------------- 0.0/1.7 MB ? eta -:--:--\n",
      "   ---------------------------------------- 0.0/1.7 MB ? eta -:--:--\n",
      "   ---------------------------------------- 0.0/1.7 MB ? eta -:--:--\n",
      "   ---------------------------------------- 0.0/1.7 MB ? eta -:--:--\n",
      "   ---------------------------------------- 0.0/1.7 MB ? eta -:--:--\n",
      "   ---------------------------------------- 0.0/1.7 MB ? eta -:--:--\n",
      "   ---------------------------------------- 0.0/1.7 MB ? eta -:--:--\n",
      "   ---------------------------------------- 0.0/1.7 MB ? eta -:--:--\n",
      "   ---------------------------------------- 0.0/1.7 MB ? eta -:--:--\n",
      "   ---------------------------------------- 0.0/1.7 MB ? eta -:--:--\n",
      "   ---------------------------------------- 0.0/1.7 MB ? eta -:--:--\n",
      "   ---------------------------------------- 0.0/1.7 MB ? eta -:--:--\n",
      "   ---------------------------------------- 0.0/1.7 MB ? eta -:--:--\n",
      "   ---------------------------------------- 0.0/1.7 MB ? eta -:--:--\n",
      "   ---------------------------------------- 0.0/1.7 MB ? eta -:--:--\n",
      "   ---------------------------------------- 0.0/1.7 MB ? eta -:--:--\n",
      "   ---------------------------------------- 0.0/1.7 MB ? eta -:--:--\n",
      "   ---------------------------------------- 0.0/1.7 MB ? eta -:--:--\n",
      "   ---------------------------------------- 0.0/1.7 MB ? eta -:--:--\n",
      "   ------ --------------------------------- 0.3/1.7 MB ? eta -:--:--\n",
      "   ------ --------------------------------- 0.3/1.7 MB ? eta -:--:--\n",
      "   ------ --------------------------------- 0.3/1.7 MB ? eta -:--:--\n",
      "   ------ --------------------------------- 0.3/1.7 MB ? eta -:--:--\n",
      "   ------ --------------------------------- 0.3/1.7 MB ? eta -:--:--\n",
      "   ------ --------------------------------- 0.3/1.7 MB ? eta -:--:--\n",
      "   ------ --------------------------------- 0.3/1.7 MB ? eta -:--:--\n",
      "   ------ --------------------------------- 0.3/1.7 MB ? eta -:--:--\n",
      "   ------ --------------------------------- 0.3/1.7 MB ? eta -:--:--\n",
      "   ------ --------------------------------- 0.3/1.7 MB ? eta -:--:--\n",
      "   ------ --------------------------------- 0.3/1.7 MB ? eta -:--:--\n",
      "   ------ --------------------------------- 0.3/1.7 MB ? eta -:--:--\n",
      "   ------ --------------------------------- 0.3/1.7 MB ? eta -:--:--\n",
      "   ------ --------------------------------- 0.3/1.7 MB ? eta -:--:--\n",
      "   ------ --------------------------------- 0.3/1.7 MB ? eta -:--:--\n",
      "   ------ --------------------------------- 0.3/1.7 MB ? eta -:--:--\n",
      "   ------ --------------------------------- 0.3/1.7 MB ? eta -:--:--\n",
      "   ------ --------------------------------- 0.3/1.7 MB ? eta -:--:--\n",
      "   ------ --------------------------------- 0.3/1.7 MB ? eta -:--:--\n",
      "   ------ --------------------------------- 0.3/1.7 MB ? eta -:--:--\n",
      "   ------ --------------------------------- 0.3/1.7 MB ? eta -:--:--\n",
      "   ------ --------------------------------- 0.3/1.7 MB ? eta -:--:--\n",
      "   ------ --------------------------------- 0.3/1.7 MB ? eta -:--:--\n",
      "   ------ --------------------------------- 0.3/1.7 MB ? eta -:--:--\n",
      "   ------ --------------------------------- 0.3/1.7 MB ? eta -:--:--\n",
      "   ------------ --------------------------- 0.5/1.7 MB 49.3 kB/s eta 0:00:25\n",
      "   ------------ --------------------------- 0.5/1.7 MB 49.3 kB/s eta 0:00:25\n",
      "   ------------ --------------------------- 0.5/1.7 MB 49.3 kB/s eta 0:00:25\n",
      "   ------------ --------------------------- 0.5/1.7 MB 49.3 kB/s eta 0:00:25\n",
      "   ------------ --------------------------- 0.5/1.7 MB 49.3 kB/s eta 0:00:25\n",
      "   ------------ --------------------------- 0.5/1.7 MB 49.3 kB/s eta 0:00:25\n",
      "   ------------ --------------------------- 0.5/1.7 MB 49.3 kB/s eta 0:00:25\n",
      "   ------------ --------------------------- 0.5/1.7 MB 49.3 kB/s eta 0:00:25\n",
      "   ------------ --------------------------- 0.5/1.7 MB 49.3 kB/s eta 0:00:25\n",
      "   ------------ --------------------------- 0.5/1.7 MB 49.3 kB/s eta 0:00:25\n",
      "   ------------ --------------------------- 0.5/1.7 MB 49.3 kB/s eta 0:00:25\n",
      "   ------------ --------------------------- 0.5/1.7 MB 49.3 kB/s eta 0:00:25\n",
      "   ------------ --------------------------- 0.5/1.7 MB 49.3 kB/s eta 0:00:25\n",
      "   ------------ --------------------------- 0.5/1.7 MB 49.3 kB/s eta 0:00:25\n",
      "   ------------ --------------------------- 0.5/1.7 MB 49.3 kB/s eta 0:00:25\n",
      "   ------------ --------------------------- 0.5/1.7 MB 49.3 kB/s eta 0:00:25\n",
      "   ------------ --------------------------- 0.5/1.7 MB 49.3 kB/s eta 0:00:25\n",
      "   ------------ --------------------------- 0.5/1.7 MB 49.3 kB/s eta 0:00:25\n",
      "   ------------ --------------------------- 0.5/1.7 MB 49.3 kB/s eta 0:00:25\n",
      "   ------------ --------------------------- 0.5/1.7 MB 49.3 kB/s eta 0:00:25\n",
      "   ------------ --------------------------- 0.5/1.7 MB 49.3 kB/s eta 0:00:25\n",
      "   ------------ --------------------------- 0.5/1.7 MB 49.3 kB/s eta 0:00:25\n",
      "   ------------ --------------------------- 0.5/1.7 MB 49.3 kB/s eta 0:00:25\n",
      "   ------------ --------------------------- 0.5/1.7 MB 49.3 kB/s eta 0:00:25\n",
      "   ------------ --------------------------- 0.5/1.7 MB 49.3 kB/s eta 0:00:25\n",
      "   ------------ --------------------------- 0.5/1.7 MB 49.3 kB/s eta 0:00:25\n",
      "   ------------ --------------------------- 0.5/1.7 MB 49.3 kB/s eta 0:00:25\n",
      "   ------------------ --------------------- 0.8/1.7 MB 47.7 kB/s eta 0:00:20\n",
      "   ------------------ --------------------- 0.8/1.7 MB 47.7 kB/s eta 0:00:20\n",
      "   ------------------ --------------------- 0.8/1.7 MB 47.7 kB/s eta 0:00:20\n",
      "   ------------------ --------------------- 0.8/1.7 MB 47.7 kB/s eta 0:00:20\n",
      "   ------------------ --------------------- 0.8/1.7 MB 47.7 kB/s eta 0:00:20\n",
      "   ------------------ --------------------- 0.8/1.7 MB 47.7 kB/s eta 0:00:20\n",
      "   ------------------ --------------------- 0.8/1.7 MB 47.7 kB/s eta 0:00:20\n",
      "   ------------------ --------------------- 0.8/1.7 MB 47.7 kB/s eta 0:00:20\n",
      "   ------------------ --------------------- 0.8/1.7 MB 47.7 kB/s eta 0:00:20\n",
      "   ------------------ --------------------- 0.8/1.7 MB 47.7 kB/s eta 0:00:20\n",
      "   ------------------ --------------------- 0.8/1.7 MB 47.7 kB/s eta 0:00:20\n",
      "   ------------------ --------------------- 0.8/1.7 MB 47.7 kB/s eta 0:00:20\n",
      "   ------------------ --------------------- 0.8/1.7 MB 47.7 kB/s eta 0:00:20\n",
      "   ------------------ --------------------- 0.8/1.7 MB 47.7 kB/s eta 0:00:20\n",
      "   ------------------ --------------------- 0.8/1.7 MB 47.7 kB/s eta 0:00:20\n",
      "   ------------------ --------------------- 0.8/1.7 MB 47.7 kB/s eta 0:00:20\n",
      "   ------------------ --------------------- 0.8/1.7 MB 47.7 kB/s eta 0:00:20\n",
      "   ------------------ --------------------- 0.8/1.7 MB 47.7 kB/s eta 0:00:20\n",
      "   ------------------ --------------------- 0.8/1.7 MB 47.7 kB/s eta 0:00:20\n",
      "   ------------------ --------------------- 0.8/1.7 MB 47.7 kB/s eta 0:00:20\n",
      "   ------------------ --------------------- 0.8/1.7 MB 47.7 kB/s eta 0:00:20\n",
      "   ------------------ --------------------- 0.8/1.7 MB 47.7 kB/s eta 0:00:20\n",
      "   ------------------ --------------------- 0.8/1.7 MB 47.7 kB/s eta 0:00:20\n",
      "   ------------------------ --------------- 1.0/1.7 MB 49.3 kB/s eta 0:00:14\n",
      "   ------------------------ --------------- 1.0/1.7 MB 49.3 kB/s eta 0:00:14\n",
      "   ------------------------ --------------- 1.0/1.7 MB 49.3 kB/s eta 0:00:14\n",
      "   ------------------------ --------------- 1.0/1.7 MB 49.3 kB/s eta 0:00:14\n",
      "   ------------------------ --------------- 1.0/1.7 MB 49.3 kB/s eta 0:00:14\n",
      "   ------------------------ --------------- 1.0/1.7 MB 49.3 kB/s eta 0:00:14\n",
      "   ------------------------ --------------- 1.0/1.7 MB 49.3 kB/s eta 0:00:14\n",
      "   ------------------------ --------------- 1.0/1.7 MB 49.3 kB/s eta 0:00:14\n",
      "   ------------------------ --------------- 1.0/1.7 MB 49.3 kB/s eta 0:00:14\n",
      "   ------------------------ --------------- 1.0/1.7 MB 49.3 kB/s eta 0:00:14\n",
      "   ------------------------ --------------- 1.0/1.7 MB 49.3 kB/s eta 0:00:14\n",
      "   ------------------------ --------------- 1.0/1.7 MB 49.3 kB/s eta 0:00:14\n",
      "   ------------------------ --------------- 1.0/1.7 MB 49.3 kB/s eta 0:00:14\n",
      "   ------------------------ --------------- 1.0/1.7 MB 49.3 kB/s eta 0:00:14\n",
      "   ------------------------ --------------- 1.0/1.7 MB 49.3 kB/s eta 0:00:14\n",
      "   ------------------------ --------------- 1.0/1.7 MB 49.3 kB/s eta 0:00:14\n",
      "   ------------------------ --------------- 1.0/1.7 MB 49.3 kB/s eta 0:00:14\n",
      "   ------------------------ --------------- 1.0/1.7 MB 49.3 kB/s eta 0:00:14\n",
      "   ------------------------ --------------- 1.0/1.7 MB 49.3 kB/s eta 0:00:14\n",
      "   ------------------------ --------------- 1.0/1.7 MB 49.3 kB/s eta 0:00:14\n",
      "   ------------------------ --------------- 1.0/1.7 MB 49.3 kB/s eta 0:00:14\n",
      "   ------------------------------ --------- 1.3/1.7 MB 51.3 kB/s eta 0:00:09\n",
      "   ------------------------------ --------- 1.3/1.7 MB 51.3 kB/s eta 0:00:09\n",
      "   ------------------------------ --------- 1.3/1.7 MB 51.3 kB/s eta 0:00:09\n",
      "   ------------------------------ --------- 1.3/1.7 MB 51.3 kB/s eta 0:00:09\n",
      "   ------------------------------ --------- 1.3/1.7 MB 51.3 kB/s eta 0:00:09\n",
      "   ------------------------------ --------- 1.3/1.7 MB 51.3 kB/s eta 0:00:09\n",
      "   ------------------------------ --------- 1.3/1.7 MB 51.3 kB/s eta 0:00:09\n",
      "   ------------------------------ --------- 1.3/1.7 MB 51.3 kB/s eta 0:00:09\n",
      "   ------------------------------ --------- 1.3/1.7 MB 51.3 kB/s eta 0:00:09\n",
      "   ------------------------------ --------- 1.3/1.7 MB 51.3 kB/s eta 0:00:09\n",
      "   ------------------------------ --------- 1.3/1.7 MB 51.3 kB/s eta 0:00:09\n",
      "   ------------------------------ --------- 1.3/1.7 MB 51.3 kB/s eta 0:00:09\n",
      "   ------------------------------ --------- 1.3/1.7 MB 51.3 kB/s eta 0:00:09\n",
      "   ------------------------------ --------- 1.3/1.7 MB 51.3 kB/s eta 0:00:09\n",
      "   ------------------------------ --------- 1.3/1.7 MB 51.3 kB/s eta 0:00:09\n",
      "   ------------------------------ --------- 1.3/1.7 MB 51.3 kB/s eta 0:00:09\n",
      "   ------------------------------ --------- 1.3/1.7 MB 51.3 kB/s eta 0:00:09\n",
      "   ------------------------------ --------- 1.3/1.7 MB 51.3 kB/s eta 0:00:09\n",
      "   ------------------------------ --------- 1.3/1.7 MB 51.3 kB/s eta 0:00:09\n",
      "   ------------------------------ --------- 1.3/1.7 MB 51.3 kB/s eta 0:00:09\n",
      "   ------------------------------------ --- 1.6/1.7 MB 53.1 kB/s eta 0:00:03\n",
      "   ------------------------------------ --- 1.6/1.7 MB 53.1 kB/s eta 0:00:03\n",
      "   ------------------------------------ --- 1.6/1.7 MB 53.1 kB/s eta 0:00:03\n",
      "   ------------------------------------ --- 1.6/1.7 MB 53.1 kB/s eta 0:00:03\n",
      "   ------------------------------------ --- 1.6/1.7 MB 53.1 kB/s eta 0:00:03\n",
      "   ------------------------------------ --- 1.6/1.7 MB 53.1 kB/s eta 0:00:03\n",
      "   ------------------------------------ --- 1.6/1.7 MB 53.1 kB/s eta 0:00:03\n",
      "   ------------------------------------ --- 1.6/1.7 MB 53.1 kB/s eta 0:00:03\n",
      "   ------------------------------------ --- 1.6/1.7 MB 53.1 kB/s eta 0:00:03\n",
      "   ------------------------------------ --- 1.6/1.7 MB 53.1 kB/s eta 0:00:03\n",
      "   ------------------------------------ --- 1.6/1.7 MB 53.1 kB/s eta 0:00:03\n",
      "   ------------------------------------ --- 1.6/1.7 MB 53.1 kB/s eta 0:00:03\n",
      "   ------------------------------------ --- 1.6/1.7 MB 53.1 kB/s eta 0:00:03\n",
      "   ------------------------------------ --- 1.6/1.7 MB 53.1 kB/s eta 0:00:03\n",
      "   ------------------------------------ --- 1.6/1.7 MB 53.1 kB/s eta 0:00:03\n",
      "   ------------------------------------ --- 1.6/1.7 MB 53.1 kB/s eta 0:00:03\n",
      "   ------------------------------------ --- 1.6/1.7 MB 53.1 kB/s eta 0:00:03\n",
      "   ------------------------------------ --- 1.6/1.7 MB 53.1 kB/s eta 0:00:03\n",
      "   ---------------------------------------- 1.7/1.7 MB 51.2 kB/s eta 0:00:00\n",
      "Installing collected packages: tf-keras\n",
      "Successfully installed tf-keras-2.19.0\n",
      "Note: you may need to restart the kernel to use updated packages.\n"
     ]
    }
   ],
   "source": [
    "pip install tf-keras"
   ]
  },
  {
   "cell_type": "code",
   "execution_count": 22,
   "id": "4d9b61ca",
   "metadata": {},
   "outputs": [
    {
     "name": "stdout",
     "output_type": "stream",
     "text": [
      "WARNING:tensorflow:From c:\\Users\\premp\\anaconda3\\envs\\mchatbot\\lib\\site-packages\\tf_keras\\src\\losses.py:2976: The name tf.losses.sparse_softmax_cross_entropy is deprecated. Please use tf.compat.v1.losses.sparse_softmax_cross_entropy instead.\n",
      "\n"
     ]
    },
    {
     "data": {
      "application/vnd.jupyter.widget-view+json": {
       "model_id": "786d9b611df6464ab131619ab8035aef",
       "version_major": 2,
       "version_minor": 0
      },
      "text/plain": [
       "modules.json:   0%|          | 0.00/349 [00:00<?, ?B/s]"
      ]
     },
     "metadata": {},
     "output_type": "display_data"
    },
    {
     "name": "stderr",
     "output_type": "stream",
     "text": [
      "C:\\Users\\premp\\AppData\\Roaming\\Python\\Python310\\site-packages\\huggingface_hub\\file_download.py:143: UserWarning: `huggingface_hub` cache-system uses symlinks by default to efficiently store duplicated files but your machine does not support them in C:\\Users\\premp\\.cache\\huggingface\\hub\\models--sentence-transformers--all-MiniLM-L6-v2. Caching files will still work but in a degraded version that might require more space on your disk. This warning can be disabled by setting the `HF_HUB_DISABLE_SYMLINKS_WARNING` environment variable. For more details, see https://huggingface.co/docs/huggingface_hub/how-to-cache#limitations.\n",
      "To support symlinks on Windows, you either need to activate Developer Mode or to run Python as an administrator. In order to activate developer mode, see this article: https://docs.microsoft.com/en-us/windows/apps/get-started/enable-your-device-for-development\n",
      "  warnings.warn(message)\n"
     ]
    },
    {
     "data": {
      "application/vnd.jupyter.widget-view+json": {
       "model_id": "f953d50a567d4d02ae4f6e3a14f979d4",
       "version_major": 2,
       "version_minor": 0
      },
      "text/plain": [
       "config_sentence_transformers.json:   0%|          | 0.00/116 [00:00<?, ?B/s]"
      ]
     },
     "metadata": {},
     "output_type": "display_data"
    },
    {
     "data": {
      "application/vnd.jupyter.widget-view+json": {
       "model_id": "fb2f9134abd7458cb2a7713bef4d441c",
       "version_major": 2,
       "version_minor": 0
      },
      "text/plain": [
       "README.md: 0.00B [00:00, ?B/s]"
      ]
     },
     "metadata": {},
     "output_type": "display_data"
    },
    {
     "data": {
      "application/vnd.jupyter.widget-view+json": {
       "model_id": "7525772f4eca41ae990c43453b5ab004",
       "version_major": 2,
       "version_minor": 0
      },
      "text/plain": [
       "sentence_bert_config.json:   0%|          | 0.00/53.0 [00:00<?, ?B/s]"
      ]
     },
     "metadata": {},
     "output_type": "display_data"
    },
    {
     "data": {
      "application/vnd.jupyter.widget-view+json": {
       "model_id": "c02da3e665404a44b9125fe4f943237f",
       "version_major": 2,
       "version_minor": 0
      },
      "text/plain": [
       "config.json:   0%|          | 0.00/612 [00:00<?, ?B/s]"
      ]
     },
     "metadata": {},
     "output_type": "display_data"
    },
    {
     "name": "stderr",
     "output_type": "stream",
     "text": [
      "Xet Storage is enabled for this repo, but the 'hf_xet' package is not installed. Falling back to regular HTTP download. For better performance, install the package with: `pip install huggingface_hub[hf_xet]` or `pip install hf_xet`\n"
     ]
    },
    {
     "data": {
      "application/vnd.jupyter.widget-view+json": {
       "model_id": "071ff7def5444f29bbcb530aea4f11ee",
       "version_major": 2,
       "version_minor": 0
      },
      "text/plain": [
       "model.safetensors:   0%|          | 0.00/90.9M [00:00<?, ?B/s]"
      ]
     },
     "metadata": {},
     "output_type": "display_data"
    },
    {
     "data": {
      "application/vnd.jupyter.widget-view+json": {
       "model_id": "f4ddc0ba38bf48edbf6ffe3e2f5d6205",
       "version_major": 2,
       "version_minor": 0
      },
      "text/plain": [
       "tokenizer_config.json:   0%|          | 0.00/350 [00:00<?, ?B/s]"
      ]
     },
     "metadata": {},
     "output_type": "display_data"
    },
    {
     "data": {
      "application/vnd.jupyter.widget-view+json": {
       "model_id": "2149905d696a4965ab353950e5bf0982",
       "version_major": 2,
       "version_minor": 0
      },
      "text/plain": [
       "vocab.txt: 0.00B [00:00, ?B/s]"
      ]
     },
     "metadata": {},
     "output_type": "display_data"
    },
    {
     "data": {
      "application/vnd.jupyter.widget-view+json": {
       "model_id": "ffadb3b937ce40699414b4a200155cae",
       "version_major": 2,
       "version_minor": 0
      },
      "text/plain": [
       "tokenizer.json: 0.00B [00:00, ?B/s]"
      ]
     },
     "metadata": {},
     "output_type": "display_data"
    },
    {
     "data": {
      "application/vnd.jupyter.widget-view+json": {
       "model_id": "48fc962ac82240c6a48f98dac186e9d6",
       "version_major": 2,
       "version_minor": 0
      },
      "text/plain": [
       "special_tokens_map.json:   0%|          | 0.00/112 [00:00<?, ?B/s]"
      ]
     },
     "metadata": {},
     "output_type": "display_data"
    },
    {
     "data": {
      "application/vnd.jupyter.widget-view+json": {
       "model_id": "6d67529c9ebb434cb8fa24e480390b0c",
       "version_major": 2,
       "version_minor": 0
      },
      "text/plain": [
       "config.json:   0%|          | 0.00/190 [00:00<?, ?B/s]"
      ]
     },
     "metadata": {},
     "output_type": "display_data"
    }
   ],
   "source": [
    "embeddings = download_hugging_face_embeddings()\n"
   ]
  },
  {
   "cell_type": "code",
   "execution_count": 23,
   "id": "02a8a877",
   "metadata": {},
   "outputs": [
    {
     "data": {
      "text/plain": [
       "HuggingFaceEmbeddings(client=SentenceTransformer(\n",
       "  (0): Transformer({'max_seq_length': 256, 'do_lower_case': False, 'architecture': 'BertModel'})\n",
       "  (1): Pooling({'word_embedding_dimension': 384, 'pooling_mode_cls_token': False, 'pooling_mode_mean_tokens': True, 'pooling_mode_max_tokens': False, 'pooling_mode_mean_sqrt_len_tokens': False, 'pooling_mode_weightedmean_tokens': False, 'pooling_mode_lasttoken': False, 'include_prompt': True})\n",
       "  (2): Normalize()\n",
       "), model_name='sentence-transformers/all-MiniLM-L6-v2', cache_folder=None, model_kwargs={}, encode_kwargs={})"
      ]
     },
     "execution_count": 23,
     "metadata": {},
     "output_type": "execute_result"
    }
   ],
   "source": [
    "embeddings"
   ]
  },
  {
   "cell_type": "code",
   "execution_count": 24,
   "id": "746de0d5",
   "metadata": {},
   "outputs": [
    {
     "name": "stdout",
     "output_type": "stream",
     "text": [
      "Length 384\n"
     ]
    }
   ],
   "source": [
    "query_result = embeddings.embed_query(\"Hello world\")\n",
    "print(\"Length\", len(query_result))"
   ]
  },
  {
   "cell_type": "code",
   "execution_count": 27,
   "id": "e6765d18",
   "metadata": {},
   "outputs": [
    {
     "ename": "AttributeError",
     "evalue": "module 'pinecone' has no attribute 'init'",
     "output_type": "error",
     "traceback": [
      "\u001b[1;31m---------------------------------------------------------------------------\u001b[0m",
      "\u001b[1;31mAttributeError\u001b[0m                            Traceback (most recent call last)",
      "Cell \u001b[1;32mIn[27], line 2\u001b[0m\n\u001b[0;32m      1\u001b[0m \u001b[38;5;66;03m#Initializing the Pinecone\u001b[39;00m\n\u001b[1;32m----> 2\u001b[0m \u001b[43mpinecone\u001b[49m\u001b[38;5;241;43m.\u001b[39;49m\u001b[43minit\u001b[49m(api_key\u001b[38;5;241m=\u001b[39mPINECONE_API_KEY )\n\u001b[0;32m      4\u001b[0m index_name\u001b[38;5;241m=\u001b[39m\u001b[38;5;124m\"\u001b[39m\u001b[38;5;124mmedical-chatbot\u001b[39m\u001b[38;5;124m\"\u001b[39m\n\u001b[0;32m      6\u001b[0m \u001b[38;5;66;03m#Creating Embeddings for Each of The Text Chunks & storing\u001b[39;00m\n",
      "\u001b[1;31mAttributeError\u001b[0m: module 'pinecone' has no attribute 'init'"
     ]
    }
   ],
   "source": [
    "#Initializing the Pinecone\n",
    "pinecone.init(api_key=PINECONE_API_KEY )\n",
    "\n",
    "index_name=\"medical-chatbot\"\n",
    "\n",
    "#Creating Embeddings for Each of The Text Chunks & storing\n",
    "docsearch=Pinecone.from_texts([t.page_content for t in text_chunks], embeddings, index_name=index_name)"
   ]
  },
  {
   "cell_type": "code",
   "execution_count": null,
   "id": "91039a04",
   "metadata": {},
   "outputs": [],
   "source": []
  }
 ],
 "metadata": {
  "kernelspec": {
   "display_name": "mchatbot",
   "language": "python",
   "name": "python3"
  },
  "language_info": {
   "codemirror_mode": {
    "name": "ipython",
    "version": 3
   },
   "file_extension": ".py",
   "mimetype": "text/x-python",
   "name": "python",
   "nbconvert_exporter": "python",
   "pygments_lexer": "ipython3",
   "version": "3.10.0"
  }
 },
 "nbformat": 4,
 "nbformat_minor": 5
}
